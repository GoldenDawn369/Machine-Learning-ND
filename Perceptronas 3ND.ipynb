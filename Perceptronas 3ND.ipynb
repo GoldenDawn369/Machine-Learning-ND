{
 "cells": [
  {
   "cell_type": "code",
   "execution_count": 6,
   "id": "1130f347",
   "metadata": {},
   "outputs": [
    {
     "name": "stdout",
     "output_type": "stream",
     "text": [
      "Training accuracy: 0.9718\n",
      "Testing accuracy: 1.0000\n",
      "Weights of layer 0:\n",
      "[[-0.02398047 -0.06142474  1.60383381]\n",
      " [ 0.24807071 -1.16281608 -0.38348136]\n",
      " [-0.37751181  0.24781204  1.22766895]\n",
      " [ 0.21670224 -0.29125484 -0.36921443]\n",
      " [ 0.40827064 -0.79585435 -0.44526018]\n",
      " [-0.30962877  0.43376605  0.32698475]\n",
      " [ 0.06194486  0.56139475 -0.18042594]\n",
      " [-0.25915055 -0.51965966 -0.48614533]\n",
      " [-0.08572172 -0.21349631 -0.2789322 ]\n",
      " [ 0.15688433 -0.60941676  0.0643632 ]\n",
      " [ 0.11954247  0.43114669 -1.39825604]\n",
      " [ 0.41462639  1.16455626  0.31647097]\n",
      " [-0.1296037  -0.91388476  1.11817309]]\n",
      "Weights of layer 1:\n",
      "[[-0.77084611  0.75298096 -0.59398787]\n",
      " [ 1.16423987 -0.84044597 -0.32983806]\n",
      " [-0.17153465 -0.06660914  1.53212548]]\n",
      "Weights of layer 2:\n",
      "[[ 0.63224778  1.50136338 -1.41062637]\n",
      " [-1.62713447 -0.53405628  0.37100888]\n",
      " [ 0.56166365 -1.04930851  0.72990315]]\n"
     ]
    },
    {
     "name": "stderr",
     "output_type": "stream",
     "text": [
      "C:\\Users\\Rober\\miniconda3\\envs\\tf\\lib\\site-packages\\sklearn\\neural_network\\_multilayer_perceptron.py:691: ConvergenceWarning: Stochastic Optimizer: Maximum iterations (1000) reached and the optimization hasn't converged yet.\n",
      "  warnings.warn(\n"
     ]
    }
   ],
   "source": [
    "import numpy as np\n",
    "from sklearn.datasets import load_wine\n",
    "from sklearn.model_selection import train_test_split\n",
    "from sklearn.preprocessing import MinMaxScaler\n",
    "from sklearn.neural_network import MLPClassifier\n",
    "\n",
    "# Load dataset\n",
    "data = load_wine()\n",
    "X, y = data.data, data.target\n",
    "\n",
    "# Normalize data to [-1, 1]\n",
    "scaler = MinMaxScaler(feature_range=(-1, 1))\n",
    "X_scaled = scaler.fit_transform(X)\n",
    "\n",
    "# Split data into training and testing sets (80% training, 20% testing)\n",
    "X_train, X_test, y_train, y_test = train_test_split(X_scaled, y, train_size=0.8, random_state=42)\n",
    "\n",
    "# Define the MLP model\n",
    "mlp = MLPClassifier(hidden_layer_sizes=(3, 3), max_iter=1000, random_state=42)\n",
    "\n",
    "# Train the model\n",
    "mlp.fit(X_train, y_train)\n",
    "\n",
    "# Evaluate the model\n",
    "print(f\"Training accuracy: {mlp.score(X_train, y_train):.4f}\")\n",
    "print(f\"Testing accuracy: {mlp.score(X_test, y_test):.4f}\")\n",
    "\n",
    "# Display the weights of each layer\n",
    "for i, weights in enumerate(mlp.coefs_):\n",
    "    print(f\"Weights of layer {i}:\")\n",
    "    print(weights)\n"
   ]
  }
 ],
 "metadata": {
  "kernelspec": {
   "display_name": "Python 3 (ipykernel)",
   "language": "python",
   "name": "python3"
  },
  "language_info": {
   "codemirror_mode": {
    "name": "ipython",
    "version": 3
   },
   "file_extension": ".py",
   "mimetype": "text/x-python",
   "name": "python",
   "nbconvert_exporter": "python",
   "pygments_lexer": "ipython3",
   "version": "3.9.16"
  }
 },
 "nbformat": 4,
 "nbformat_minor": 5
}
